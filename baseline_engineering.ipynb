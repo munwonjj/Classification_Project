{
 "cells": [
  {
   "cell_type": "code",
   "execution_count": 31,
   "id": "9c3504a9",
   "metadata": {},
   "outputs": [],
   "source": [
    "import pandas as pd\n",
    "import numpy as np\n",
    "import matplotlib.pyplot as plt\n",
    "import seaborn as sns\n",
    "%matplotlib inline\n",
    "\n",
    "from sklearn.model_selection import train_test_split\n",
    "from sklearn.preprocessing import StandardScaler\n",
    "from sklearn.linear_model import LogisticRegression\n",
    "from sklearn.neighbors import KNeighborsClassifier\n",
    "from sklearn.linear_model import LogisticRegression\n",
    "from sklearn.tree import DecisionTreeClassifier\n",
    "from sklearn.ensemble import RandomForestClassifier\n",
    "\n",
    "from sklearn.metrics import classification_report\n",
    "from sklearn.metrics import precision_score, recall_score, precision_recall_curve,f1_score, fbeta_score\n",
    "from sklearn.metrics import confusion_matrix\n",
    "from sklearn.metrics import roc_auc_score, roc_curve\n",
    "from sklearn.metrics import roc_curve, auc"
   ]
  },
  {
   "cell_type": "code",
   "execution_count": 32,
   "id": "1107da08",
   "metadata": {},
   "outputs": [
    {
     "data": {
      "text/html": [
       "<div>\n",
       "<style scoped>\n",
       "    .dataframe tbody tr th:only-of-type {\n",
       "        vertical-align: middle;\n",
       "    }\n",
       "\n",
       "    .dataframe tbody tr th {\n",
       "        vertical-align: top;\n",
       "    }\n",
       "\n",
       "    .dataframe thead th {\n",
       "        text-align: right;\n",
       "    }\n",
       "</style>\n",
       "<table border=\"1\" class=\"dataframe\">\n",
       "  <thead>\n",
       "    <tr style=\"text-align: right;\">\n",
       "      <th></th>\n",
       "      <th>gameId</th>\n",
       "      <th>gameDuraton</th>\n",
       "      <th>blueWins</th>\n",
       "      <th>blueFirstBlood</th>\n",
       "      <th>blueFirstTower</th>\n",
       "      <th>blueFirstBaron</th>\n",
       "      <th>blueFirstDragon</th>\n",
       "      <th>blueFirstInhibitor</th>\n",
       "      <th>blueDragonKills</th>\n",
       "      <th>blueBaronKills</th>\n",
       "      <th>...</th>\n",
       "      <th>redAssist</th>\n",
       "      <th>redChampionDamageDealt</th>\n",
       "      <th>redTotalGold</th>\n",
       "      <th>redTotalMinionKills</th>\n",
       "      <th>redTotalLevel</th>\n",
       "      <th>redAvgLevel</th>\n",
       "      <th>redJungleMinionKills</th>\n",
       "      <th>redKillingSpree</th>\n",
       "      <th>redTotalHeal</th>\n",
       "      <th>redObjectDamageDealt</th>\n",
       "    </tr>\n",
       "  </thead>\n",
       "  <tbody>\n",
       "    <tr>\n",
       "      <th>0</th>\n",
       "      <td>4247263043</td>\n",
       "      <td>1323</td>\n",
       "      <td>0</td>\n",
       "      <td>1</td>\n",
       "      <td>0</td>\n",
       "      <td>0</td>\n",
       "      <td>0</td>\n",
       "      <td>0</td>\n",
       "      <td>0</td>\n",
       "      <td>0</td>\n",
       "      <td>...</td>\n",
       "      <td>68</td>\n",
       "      <td>73016</td>\n",
       "      <td>49832</td>\n",
       "      <td>533</td>\n",
       "      <td>64</td>\n",
       "      <td>12.8</td>\n",
       "      <td>138</td>\n",
       "      <td>8</td>\n",
       "      <td>38711</td>\n",
       "      <td>60463</td>\n",
       "    </tr>\n",
       "    <tr>\n",
       "      <th>1</th>\n",
       "      <td>4247155821</td>\n",
       "      <td>1317</td>\n",
       "      <td>1</td>\n",
       "      <td>0</td>\n",
       "      <td>0</td>\n",
       "      <td>0</td>\n",
       "      <td>1</td>\n",
       "      <td>0</td>\n",
       "      <td>2</td>\n",
       "      <td>0</td>\n",
       "      <td>...</td>\n",
       "      <td>8</td>\n",
       "      <td>44218</td>\n",
       "      <td>37136</td>\n",
       "      <td>571</td>\n",
       "      <td>59</td>\n",
       "      <td>11.8</td>\n",
       "      <td>134</td>\n",
       "      <td>3</td>\n",
       "      <td>24829</td>\n",
       "      <td>14105</td>\n",
       "    </tr>\n",
       "    <tr>\n",
       "      <th>2</th>\n",
       "      <td>4243963257</td>\n",
       "      <td>932</td>\n",
       "      <td>0</td>\n",
       "      <td>0</td>\n",
       "      <td>0</td>\n",
       "      <td>0</td>\n",
       "      <td>0</td>\n",
       "      <td>0</td>\n",
       "      <td>0</td>\n",
       "      <td>0</td>\n",
       "      <td>...</td>\n",
       "      <td>20</td>\n",
       "      <td>30797</td>\n",
       "      <td>35364</td>\n",
       "      <td>400</td>\n",
       "      <td>50</td>\n",
       "      <td>10.0</td>\n",
       "      <td>89</td>\n",
       "      <td>5</td>\n",
       "      <td>12589</td>\n",
       "      <td>45201</td>\n",
       "    </tr>\n",
       "    <tr>\n",
       "      <th>3</th>\n",
       "      <td>4241678498</td>\n",
       "      <td>2098</td>\n",
       "      <td>0</td>\n",
       "      <td>0</td>\n",
       "      <td>0</td>\n",
       "      <td>1</td>\n",
       "      <td>1</td>\n",
       "      <td>0</td>\n",
       "      <td>1</td>\n",
       "      <td>1</td>\n",
       "      <td>...</td>\n",
       "      <td>72</td>\n",
       "      <td>125866</td>\n",
       "      <td>70528</td>\n",
       "      <td>832</td>\n",
       "      <td>84</td>\n",
       "      <td>16.8</td>\n",
       "      <td>205</td>\n",
       "      <td>9</td>\n",
       "      <td>65312</td>\n",
       "      <td>88202</td>\n",
       "    </tr>\n",
       "    <tr>\n",
       "      <th>4</th>\n",
       "      <td>4241538868</td>\n",
       "      <td>2344</td>\n",
       "      <td>1</td>\n",
       "      <td>1</td>\n",
       "      <td>1</td>\n",
       "      <td>1</td>\n",
       "      <td>1</td>\n",
       "      <td>1</td>\n",
       "      <td>2</td>\n",
       "      <td>2</td>\n",
       "      <td>...</td>\n",
       "      <td>83</td>\n",
       "      <td>131536</td>\n",
       "      <td>74596</td>\n",
       "      <td>794</td>\n",
       "      <td>85</td>\n",
       "      <td>17.0</td>\n",
       "      <td>227</td>\n",
       "      <td>7</td>\n",
       "      <td>86431</td>\n",
       "      <td>64141</td>\n",
       "    </tr>\n",
       "    <tr>\n",
       "      <th>...</th>\n",
       "      <td>...</td>\n",
       "      <td>...</td>\n",
       "      <td>...</td>\n",
       "      <td>...</td>\n",
       "      <td>...</td>\n",
       "      <td>...</td>\n",
       "      <td>...</td>\n",
       "      <td>...</td>\n",
       "      <td>...</td>\n",
       "      <td>...</td>\n",
       "      <td>...</td>\n",
       "      <td>...</td>\n",
       "      <td>...</td>\n",
       "      <td>...</td>\n",
       "      <td>...</td>\n",
       "      <td>...</td>\n",
       "      <td>...</td>\n",
       "      <td>...</td>\n",
       "      <td>...</td>\n",
       "      <td>...</td>\n",
       "      <td>...</td>\n",
       "    </tr>\n",
       "    <tr>\n",
       "      <th>26899</th>\n",
       "      <td>4143231833</td>\n",
       "      <td>1468</td>\n",
       "      <td>0</td>\n",
       "      <td>1</td>\n",
       "      <td>0</td>\n",
       "      <td>0</td>\n",
       "      <td>0</td>\n",
       "      <td>0</td>\n",
       "      <td>1</td>\n",
       "      <td>0</td>\n",
       "      <td>...</td>\n",
       "      <td>40</td>\n",
       "      <td>75531</td>\n",
       "      <td>46558</td>\n",
       "      <td>478</td>\n",
       "      <td>64</td>\n",
       "      <td>12.8</td>\n",
       "      <td>141</td>\n",
       "      <td>6</td>\n",
       "      <td>48596</td>\n",
       "      <td>42733</td>\n",
       "    </tr>\n",
       "    <tr>\n",
       "      <th>26900</th>\n",
       "      <td>4157911901</td>\n",
       "      <td>970</td>\n",
       "      <td>0</td>\n",
       "      <td>1</td>\n",
       "      <td>1</td>\n",
       "      <td>0</td>\n",
       "      <td>1</td>\n",
       "      <td>0</td>\n",
       "      <td>3</td>\n",
       "      <td>0</td>\n",
       "      <td>...</td>\n",
       "      <td>31</td>\n",
       "      <td>99837</td>\n",
       "      <td>70177</td>\n",
       "      <td>455</td>\n",
       "      <td>72</td>\n",
       "      <td>14.4</td>\n",
       "      <td>136</td>\n",
       "      <td>11</td>\n",
       "      <td>15817</td>\n",
       "      <td>50217</td>\n",
       "    </tr>\n",
       "    <tr>\n",
       "      <th>26901</th>\n",
       "      <td>3764171638</td>\n",
       "      <td>1480</td>\n",
       "      <td>0</td>\n",
       "      <td>1</td>\n",
       "      <td>1</td>\n",
       "      <td>0</td>\n",
       "      <td>1</td>\n",
       "      <td>0</td>\n",
       "      <td>1</td>\n",
       "      <td>0</td>\n",
       "      <td>...</td>\n",
       "      <td>34</td>\n",
       "      <td>55214</td>\n",
       "      <td>48849</td>\n",
       "      <td>636</td>\n",
       "      <td>66</td>\n",
       "      <td>13.2</td>\n",
       "      <td>175</td>\n",
       "      <td>6</td>\n",
       "      <td>25448</td>\n",
       "      <td>27675</td>\n",
       "    </tr>\n",
       "    <tr>\n",
       "      <th>26902</th>\n",
       "      <td>4110201724</td>\n",
       "      <td>1837</td>\n",
       "      <td>1</td>\n",
       "      <td>1</td>\n",
       "      <td>0</td>\n",
       "      <td>0</td>\n",
       "      <td>1</td>\n",
       "      <td>0</td>\n",
       "      <td>3</td>\n",
       "      <td>0</td>\n",
       "      <td>...</td>\n",
       "      <td>29</td>\n",
       "      <td>88366</td>\n",
       "      <td>52625</td>\n",
       "      <td>660</td>\n",
       "      <td>70</td>\n",
       "      <td>14.0</td>\n",
       "      <td>168</td>\n",
       "      <td>5</td>\n",
       "      <td>25003</td>\n",
       "      <td>45455</td>\n",
       "    </tr>\n",
       "    <tr>\n",
       "      <th>26903</th>\n",
       "      <td>4100240254</td>\n",
       "      <td>948</td>\n",
       "      <td>1</td>\n",
       "      <td>1</td>\n",
       "      <td>1</td>\n",
       "      <td>0</td>\n",
       "      <td>0</td>\n",
       "      <td>0</td>\n",
       "      <td>1</td>\n",
       "      <td>0</td>\n",
       "      <td>...</td>\n",
       "      <td>3</td>\n",
       "      <td>16574</td>\n",
       "      <td>20972</td>\n",
       "      <td>351</td>\n",
       "      <td>40</td>\n",
       "      <td>8.0</td>\n",
       "      <td>56</td>\n",
       "      <td>0</td>\n",
       "      <td>7138</td>\n",
       "      <td>6808</td>\n",
       "    </tr>\n",
       "  </tbody>\n",
       "</table>\n",
       "<p>26904 rows × 50 columns</p>\n",
       "</div>"
      ],
      "text/plain": [
       "           gameId  gameDuraton  blueWins  blueFirstBlood  blueFirstTower  \\\n",
       "0      4247263043         1323         0               1               0   \n",
       "1      4247155821         1317         1               0               0   \n",
       "2      4243963257          932         0               0               0   \n",
       "3      4241678498         2098         0               0               0   \n",
       "4      4241538868         2344         1               1               1   \n",
       "...           ...          ...       ...             ...             ...   \n",
       "26899  4143231833         1468         0               1               0   \n",
       "26900  4157911901          970         0               1               1   \n",
       "26901  3764171638         1480         0               1               1   \n",
       "26902  4110201724         1837         1               1               0   \n",
       "26903  4100240254          948         1               1               1   \n",
       "\n",
       "       blueFirstBaron  blueFirstDragon  blueFirstInhibitor  blueDragonKills  \\\n",
       "0                   0                0                   0                0   \n",
       "1                   0                1                   0                2   \n",
       "2                   0                0                   0                0   \n",
       "3                   1                1                   0                1   \n",
       "4                   1                1                   1                2   \n",
       "...               ...              ...                 ...              ...   \n",
       "26899               0                0                   0                1   \n",
       "26900               0                1                   0                3   \n",
       "26901               0                1                   0                1   \n",
       "26902               0                1                   0                3   \n",
       "26903               0                0                   0                1   \n",
       "\n",
       "       blueBaronKills  ...  redAssist  redChampionDamageDealt  redTotalGold  \\\n",
       "0                   0  ...         68                   73016         49832   \n",
       "1                   0  ...          8                   44218         37136   \n",
       "2                   0  ...         20                   30797         35364   \n",
       "3                   1  ...         72                  125866         70528   \n",
       "4                   2  ...         83                  131536         74596   \n",
       "...               ...  ...        ...                     ...           ...   \n",
       "26899               0  ...         40                   75531         46558   \n",
       "26900               0  ...         31                   99837         70177   \n",
       "26901               0  ...         34                   55214         48849   \n",
       "26902               0  ...         29                   88366         52625   \n",
       "26903               0  ...          3                   16574         20972   \n",
       "\n",
       "       redTotalMinionKills  redTotalLevel  redAvgLevel  redJungleMinionKills  \\\n",
       "0                      533             64         12.8                   138   \n",
       "1                      571             59         11.8                   134   \n",
       "2                      400             50         10.0                    89   \n",
       "3                      832             84         16.8                   205   \n",
       "4                      794             85         17.0                   227   \n",
       "...                    ...            ...          ...                   ...   \n",
       "26899                  478             64         12.8                   141   \n",
       "26900                  455             72         14.4                   136   \n",
       "26901                  636             66         13.2                   175   \n",
       "26902                  660             70         14.0                   168   \n",
       "26903                  351             40          8.0                    56   \n",
       "\n",
       "       redKillingSpree  redTotalHeal  redObjectDamageDealt  \n",
       "0                    8         38711                 60463  \n",
       "1                    3         24829                 14105  \n",
       "2                    5         12589                 45201  \n",
       "3                    9         65312                 88202  \n",
       "4                    7         86431                 64141  \n",
       "...                ...           ...                   ...  \n",
       "26899                6         48596                 42733  \n",
       "26900               11         15817                 50217  \n",
       "26901                6         25448                 27675  \n",
       "26902                5         25003                 45455  \n",
       "26903                0          7138                  6808  \n",
       "\n",
       "[26904 rows x 50 columns]"
      ]
     },
     "execution_count": 32,
     "metadata": {},
     "output_type": "execute_result"
    }
   ],
   "source": [
    "# dataset from ranked challenger last updated 2020\n",
    "df = pd.read_csv(\"ranked_challenger.csv\")\n",
    "df"
   ]
  },
  {
   "cell_type": "code",
   "execution_count": 33,
   "id": "7b0bd010",
   "metadata": {},
   "outputs": [],
   "source": [
    "# drop gameID and repeating features for red side\n",
    "X = df.loc[:,[\"gameDuraton\", \"blueFirstBlood\", \"blueFirstTower\", \"blueFirstBaron\", \"blueFirstDragon\", \"blueFirstInhibitor\",\n",
    "          \"blueDragonKills\", \"blueBaronKills\", \"blueTowerKills\", \"blueInhibitorKills\", \"blueWardPlaced\", \"blueWardkills\",\n",
    "         \"blueKills\", \"blueDeath\", \"blueAssist\", \"blueChampionDamageDealt\", \"blueTotalGold\", \"blueTotalMinionKills\",\n",
    "         \"blueTotalLevel\", \"blueAvgLevel\", \"blueJungleMinionKills\", \"blueKillingSpree\", \"blueTotalHeal\", \"blueObjectDamageDealt\"]]\n",
    "\n",
    "y = df[\"blueWins\"]"
   ]
  },
  {
   "cell_type": "code",
   "execution_count": 34,
   "id": "8f675ff7",
   "metadata": {},
   "outputs": [
    {
     "data": {
      "text/html": [
       "<div>\n",
       "<style scoped>\n",
       "    .dataframe tbody tr th:only-of-type {\n",
       "        vertical-align: middle;\n",
       "    }\n",
       "\n",
       "    .dataframe tbody tr th {\n",
       "        vertical-align: top;\n",
       "    }\n",
       "\n",
       "    .dataframe thead th {\n",
       "        text-align: right;\n",
       "    }\n",
       "</style>\n",
       "<table border=\"1\" class=\"dataframe\">\n",
       "  <thead>\n",
       "    <tr style=\"text-align: right;\">\n",
       "      <th></th>\n",
       "      <th>gameDuraton</th>\n",
       "      <th>blueWins</th>\n",
       "      <th>blueFirstBlood</th>\n",
       "      <th>blueFirstTower</th>\n",
       "      <th>blueFirstBaron</th>\n",
       "      <th>blueFirstDragon</th>\n",
       "      <th>blueFirstInhibitor</th>\n",
       "      <th>blueDragonKills</th>\n",
       "      <th>blueBaronKills</th>\n",
       "      <th>blueTowerKills</th>\n",
       "      <th>...</th>\n",
       "      <th>blueAssist</th>\n",
       "      <th>blueChampionDamageDealt</th>\n",
       "      <th>blueTotalGold</th>\n",
       "      <th>blueTotalMinionKills</th>\n",
       "      <th>blueTotalLevel</th>\n",
       "      <th>blueAvgLevel</th>\n",
       "      <th>blueJungleMinionKills</th>\n",
       "      <th>blueKillingSpree</th>\n",
       "      <th>blueTotalHeal</th>\n",
       "      <th>blueObjectDamageDealt</th>\n",
       "    </tr>\n",
       "  </thead>\n",
       "  <tbody>\n",
       "    <tr>\n",
       "      <th>0</th>\n",
       "      <td>1323</td>\n",
       "      <td>0</td>\n",
       "      <td>1</td>\n",
       "      <td>0</td>\n",
       "      <td>0</td>\n",
       "      <td>0</td>\n",
       "      <td>0</td>\n",
       "      <td>0</td>\n",
       "      <td>0</td>\n",
       "      <td>0</td>\n",
       "      <td>...</td>\n",
       "      <td>22</td>\n",
       "      <td>56039</td>\n",
       "      <td>37001</td>\n",
       "      <td>440</td>\n",
       "      <td>56</td>\n",
       "      <td>11.2</td>\n",
       "      <td>105</td>\n",
       "      <td>4</td>\n",
       "      <td>31035</td>\n",
       "      <td>5675</td>\n",
       "    </tr>\n",
       "    <tr>\n",
       "      <th>1</th>\n",
       "      <td>1317</td>\n",
       "      <td>1</td>\n",
       "      <td>0</td>\n",
       "      <td>0</td>\n",
       "      <td>0</td>\n",
       "      <td>1</td>\n",
       "      <td>0</td>\n",
       "      <td>2</td>\n",
       "      <td>0</td>\n",
       "      <td>4</td>\n",
       "      <td>...</td>\n",
       "      <td>31</td>\n",
       "      <td>60243</td>\n",
       "      <td>41072</td>\n",
       "      <td>531</td>\n",
       "      <td>63</td>\n",
       "      <td>12.6</td>\n",
       "      <td>111</td>\n",
       "      <td>3</td>\n",
       "      <td>26397</td>\n",
       "      <td>45303</td>\n",
       "    </tr>\n",
       "    <tr>\n",
       "      <th>2</th>\n",
       "      <td>932</td>\n",
       "      <td>0</td>\n",
       "      <td>0</td>\n",
       "      <td>0</td>\n",
       "      <td>0</td>\n",
       "      <td>0</td>\n",
       "      <td>0</td>\n",
       "      <td>0</td>\n",
       "      <td>0</td>\n",
       "      <td>0</td>\n",
       "      <td>...</td>\n",
       "      <td>8</td>\n",
       "      <td>24014</td>\n",
       "      <td>22929</td>\n",
       "      <td>306</td>\n",
       "      <td>42</td>\n",
       "      <td>8.4</td>\n",
       "      <td>64</td>\n",
       "      <td>0</td>\n",
       "      <td>6567</td>\n",
       "      <td>5651</td>\n",
       "    </tr>\n",
       "    <tr>\n",
       "      <th>3</th>\n",
       "      <td>2098</td>\n",
       "      <td>0</td>\n",
       "      <td>0</td>\n",
       "      <td>0</td>\n",
       "      <td>1</td>\n",
       "      <td>1</td>\n",
       "      <td>0</td>\n",
       "      <td>1</td>\n",
       "      <td>1</td>\n",
       "      <td>2</td>\n",
       "      <td>...</td>\n",
       "      <td>45</td>\n",
       "      <td>101607</td>\n",
       "      <td>63447</td>\n",
       "      <td>774</td>\n",
       "      <td>80</td>\n",
       "      <td>16.0</td>\n",
       "      <td>226</td>\n",
       "      <td>3</td>\n",
       "      <td>24718</td>\n",
       "      <td>31019</td>\n",
       "    </tr>\n",
       "    <tr>\n",
       "      <th>4</th>\n",
       "      <td>2344</td>\n",
       "      <td>1</td>\n",
       "      <td>1</td>\n",
       "      <td>1</td>\n",
       "      <td>1</td>\n",
       "      <td>1</td>\n",
       "      <td>1</td>\n",
       "      <td>2</td>\n",
       "      <td>2</td>\n",
       "      <td>11</td>\n",
       "      <td>...</td>\n",
       "      <td>47</td>\n",
       "      <td>134826</td>\n",
       "      <td>74955</td>\n",
       "      <td>831</td>\n",
       "      <td>83</td>\n",
       "      <td>16.6</td>\n",
       "      <td>252</td>\n",
       "      <td>5</td>\n",
       "      <td>37161</td>\n",
       "      <td>95287</td>\n",
       "    </tr>\n",
       "    <tr>\n",
       "      <th>...</th>\n",
       "      <td>...</td>\n",
       "      <td>...</td>\n",
       "      <td>...</td>\n",
       "      <td>...</td>\n",
       "      <td>...</td>\n",
       "      <td>...</td>\n",
       "      <td>...</td>\n",
       "      <td>...</td>\n",
       "      <td>...</td>\n",
       "      <td>...</td>\n",
       "      <td>...</td>\n",
       "      <td>...</td>\n",
       "      <td>...</td>\n",
       "      <td>...</td>\n",
       "      <td>...</td>\n",
       "      <td>...</td>\n",
       "      <td>...</td>\n",
       "      <td>...</td>\n",
       "      <td>...</td>\n",
       "      <td>...</td>\n",
       "      <td>...</td>\n",
       "    </tr>\n",
       "    <tr>\n",
       "      <th>26899</th>\n",
       "      <td>1468</td>\n",
       "      <td>0</td>\n",
       "      <td>1</td>\n",
       "      <td>0</td>\n",
       "      <td>0</td>\n",
       "      <td>0</td>\n",
       "      <td>0</td>\n",
       "      <td>1</td>\n",
       "      <td>0</td>\n",
       "      <td>0</td>\n",
       "      <td>...</td>\n",
       "      <td>50</td>\n",
       "      <td>99418</td>\n",
       "      <td>41437</td>\n",
       "      <td>438</td>\n",
       "      <td>60</td>\n",
       "      <td>12.0</td>\n",
       "      <td>106</td>\n",
       "      <td>8</td>\n",
       "      <td>20122</td>\n",
       "      <td>13309</td>\n",
       "    </tr>\n",
       "    <tr>\n",
       "      <th>26900</th>\n",
       "      <td>970</td>\n",
       "      <td>0</td>\n",
       "      <td>1</td>\n",
       "      <td>1</td>\n",
       "      <td>0</td>\n",
       "      <td>1</td>\n",
       "      <td>0</td>\n",
       "      <td>3</td>\n",
       "      <td>0</td>\n",
       "      <td>5</td>\n",
       "      <td>...</td>\n",
       "      <td>36</td>\n",
       "      <td>61816</td>\n",
       "      <td>61221</td>\n",
       "      <td>346</td>\n",
       "      <td>65</td>\n",
       "      <td>13.0</td>\n",
       "      <td>28</td>\n",
       "      <td>5</td>\n",
       "      <td>32837</td>\n",
       "      <td>44640</td>\n",
       "    </tr>\n",
       "    <tr>\n",
       "      <th>26901</th>\n",
       "      <td>1480</td>\n",
       "      <td>0</td>\n",
       "      <td>1</td>\n",
       "      <td>1</td>\n",
       "      <td>0</td>\n",
       "      <td>1</td>\n",
       "      <td>0</td>\n",
       "      <td>1</td>\n",
       "      <td>0</td>\n",
       "      <td>4</td>\n",
       "      <td>...</td>\n",
       "      <td>19</td>\n",
       "      <td>51604</td>\n",
       "      <td>45013</td>\n",
       "      <td>568</td>\n",
       "      <td>63</td>\n",
       "      <td>12.6</td>\n",
       "      <td>132</td>\n",
       "      <td>4</td>\n",
       "      <td>18131</td>\n",
       "      <td>45242</td>\n",
       "    </tr>\n",
       "    <tr>\n",
       "      <th>26902</th>\n",
       "      <td>1837</td>\n",
       "      <td>1</td>\n",
       "      <td>1</td>\n",
       "      <td>0</td>\n",
       "      <td>0</td>\n",
       "      <td>1</td>\n",
       "      <td>0</td>\n",
       "      <td>3</td>\n",
       "      <td>0</td>\n",
       "      <td>5</td>\n",
       "      <td>...</td>\n",
       "      <td>66</td>\n",
       "      <td>93059</td>\n",
       "      <td>58160</td>\n",
       "      <td>640</td>\n",
       "      <td>76</td>\n",
       "      <td>15.2</td>\n",
       "      <td>168</td>\n",
       "      <td>7</td>\n",
       "      <td>75427</td>\n",
       "      <td>60486</td>\n",
       "    </tr>\n",
       "    <tr>\n",
       "      <th>26903</th>\n",
       "      <td>948</td>\n",
       "      <td>1</td>\n",
       "      <td>1</td>\n",
       "      <td>1</td>\n",
       "      <td>0</td>\n",
       "      <td>0</td>\n",
       "      <td>0</td>\n",
       "      <td>1</td>\n",
       "      <td>0</td>\n",
       "      <td>4</td>\n",
       "      <td>...</td>\n",
       "      <td>19</td>\n",
       "      <td>22427</td>\n",
       "      <td>30001</td>\n",
       "      <td>399</td>\n",
       "      <td>50</td>\n",
       "      <td>10.0</td>\n",
       "      <td>89</td>\n",
       "      <td>3</td>\n",
       "      <td>10791</td>\n",
       "      <td>24827</td>\n",
       "    </tr>\n",
       "  </tbody>\n",
       "</table>\n",
       "<p>26904 rows × 25 columns</p>\n",
       "</div>"
      ],
      "text/plain": [
       "       gameDuraton  blueWins  blueFirstBlood  blueFirstTower  blueFirstBaron  \\\n",
       "0             1323         0               1               0               0   \n",
       "1             1317         1               0               0               0   \n",
       "2              932         0               0               0               0   \n",
       "3             2098         0               0               0               1   \n",
       "4             2344         1               1               1               1   \n",
       "...            ...       ...             ...             ...             ...   \n",
       "26899         1468         0               1               0               0   \n",
       "26900          970         0               1               1               0   \n",
       "26901         1480         0               1               1               0   \n",
       "26902         1837         1               1               0               0   \n",
       "26903          948         1               1               1               0   \n",
       "\n",
       "       blueFirstDragon  blueFirstInhibitor  blueDragonKills  blueBaronKills  \\\n",
       "0                    0                   0                0               0   \n",
       "1                    1                   0                2               0   \n",
       "2                    0                   0                0               0   \n",
       "3                    1                   0                1               1   \n",
       "4                    1                   1                2               2   \n",
       "...                ...                 ...              ...             ...   \n",
       "26899                0                   0                1               0   \n",
       "26900                1                   0                3               0   \n",
       "26901                1                   0                1               0   \n",
       "26902                1                   0                3               0   \n",
       "26903                0                   0                1               0   \n",
       "\n",
       "       blueTowerKills  ...  blueAssist  blueChampionDamageDealt  \\\n",
       "0                   0  ...          22                    56039   \n",
       "1                   4  ...          31                    60243   \n",
       "2                   0  ...           8                    24014   \n",
       "3                   2  ...          45                   101607   \n",
       "4                  11  ...          47                   134826   \n",
       "...               ...  ...         ...                      ...   \n",
       "26899               0  ...          50                    99418   \n",
       "26900               5  ...          36                    61816   \n",
       "26901               4  ...          19                    51604   \n",
       "26902               5  ...          66                    93059   \n",
       "26903               4  ...          19                    22427   \n",
       "\n",
       "       blueTotalGold  blueTotalMinionKills  blueTotalLevel  blueAvgLevel  \\\n",
       "0              37001                   440              56          11.2   \n",
       "1              41072                   531              63          12.6   \n",
       "2              22929                   306              42           8.4   \n",
       "3              63447                   774              80          16.0   \n",
       "4              74955                   831              83          16.6   \n",
       "...              ...                   ...             ...           ...   \n",
       "26899          41437                   438              60          12.0   \n",
       "26900          61221                   346              65          13.0   \n",
       "26901          45013                   568              63          12.6   \n",
       "26902          58160                   640              76          15.2   \n",
       "26903          30001                   399              50          10.0   \n",
       "\n",
       "       blueJungleMinionKills  blueKillingSpree  blueTotalHeal  \\\n",
       "0                        105                 4          31035   \n",
       "1                        111                 3          26397   \n",
       "2                         64                 0           6567   \n",
       "3                        226                 3          24718   \n",
       "4                        252                 5          37161   \n",
       "...                      ...               ...            ...   \n",
       "26899                    106                 8          20122   \n",
       "26900                     28                 5          32837   \n",
       "26901                    132                 4          18131   \n",
       "26902                    168                 7          75427   \n",
       "26903                     89                 3          10791   \n",
       "\n",
       "       blueObjectDamageDealt  \n",
       "0                       5675  \n",
       "1                      45303  \n",
       "2                       5651  \n",
       "3                      31019  \n",
       "4                      95287  \n",
       "...                      ...  \n",
       "26899                  13309  \n",
       "26900                  44640  \n",
       "26901                  45242  \n",
       "26902                  60486  \n",
       "26903                  24827  \n",
       "\n",
       "[26904 rows x 25 columns]"
      ]
     },
     "execution_count": 34,
     "metadata": {},
     "output_type": "execute_result"
    }
   ],
   "source": [
    "# blue team\n",
    "blue_df = df.iloc[0: ,1:26]\n",
    "blue_df"
   ]
  },
  {
   "cell_type": "code",
   "execution_count": 35,
   "id": "bcbedbc8",
   "metadata": {},
   "outputs": [],
   "source": [
    "def make_confusion_matrix(model, threshold=0.6):\n",
    "    # Predict class 1 if probability of being in class 1 is greater than threshold\n",
    "    # (model.predict(X_test) does this automatically with a threshold of 0.5)\n",
    "    y_predict = (model.predict_proba(X_test_sc)[:,1] >=threshold)\n",
    "    success_confusion = confusion_matrix(y_test, y_predict)\n",
    "    plt.figure(dpi=80)\n",
    "    sns.heatmap(success_confusion, cmap=plt.cm.Blues, annot=True, square=True, fmt='d',\n",
    "           xticklabels=['fail','success'],\n",
    "           yticklabels=['fail','success']);\n",
    "    plt.xlabel('prediction')\n",
    "    plt.ylabel('actual')"
   ]
  },
  {
   "cell_type": "code",
   "execution_count": 36,
   "id": "504c9d62",
   "metadata": {},
   "outputs": [
    {
     "name": "stdout",
     "output_type": "stream",
     "text": [
      "1    0.500074\n",
      "0    0.499926\n",
      "Name: blueWins, dtype: float64\n"
     ]
    },
    {
     "data": {
      "text/plain": [
       "<AxesSubplot:>"
      ]
     },
     "execution_count": 36,
     "metadata": {},
     "output_type": "execute_result"
    },
    {
     "data": {
      "image/png": "[encoded data removed]",
      "text/plain": [
       "<Figure size 432x288 with 1 Axes>"
      ]
     },
     "metadata": {
      "needs_background": "light"
     },
     "output_type": "display_data"
    }
   ],
   "source": [
    "#checking imbalance\n",
    "target_pcts = blue_df.blueWins.value_counts(normalize=True) \n",
    "print(target_pcts)\n",
    "\n",
    "target_pcts.plot(kind='bar')"
   ]
  },
  {
   "cell_type": "code",
   "execution_count": 77,
   "id": "573d220c",
   "metadata": {},
   "outputs": [
    {
     "name": "stdout",
     "output_type": "stream",
     "text": [
      "1    13454\n",
      "0    13450\n",
      "Name: blueWins, dtype: int64\n",
      "1    0.500074\n",
      "0    0.499926\n",
      "Name: blueWins, dtype: float64\n"
     ]
    },
    {
     "name": "stderr",
     "output_type": "stream",
     "text": [
      "/home/munwon/ENTER/lib/python3.8/site-packages/seaborn/_decorators.py:36: FutureWarning: Pass the following variables as keyword args: x, y. From version 0.12, the only valid positional argument will be `data`, and passing other arguments without an explicit keyword will result in an error or misinterpretation.\n",
      "  warnings.warn(\n"
     ]
    },
    {
     "data": {
      "image/png": "[encoded data removed]",
      "text/plain": [
       "<Figure size 720x360 with 1 Axes>"
      ]
     },
     "metadata": {
      "needs_background": "light"
     },
     "output_type": "display_data"
    }
   ],
   "source": [
    "print(blue_df.blueWins.value_counts())\n",
    "target = blue_df.blueWins.value_counts(normalize=True) \n",
    "print(target)\n",
    "plt.figure(figsize=(10,5))\n",
    "sns.barplot(target.index, target.values)\n",
    "plt.title('Kickstarter Success Ratio')\n",
    "plt.ylabel('Percentage of Campaign', fontsize=12);"
   ]
  },
  {
   "cell_type": "markdown",
   "id": "2e5735d0",
   "metadata": {},
   "source": [
    "## Baseline Subset 1"
   ]
  },
  {
   "cell_type": "code",
   "execution_count": 79,
   "id": "48e121b5",
   "metadata": {},
   "outputs": [
    {
     "data": {
      "text/html": [
       "<div>\n",
       "<style scoped>\n",
       "    .dataframe tbody tr th:only-of-type {\n",
       "        vertical-align: middle;\n",
       "    }\n",
       "\n",
       "    .dataframe tbody tr th {\n",
       "        vertical-align: top;\n",
       "    }\n",
       "\n",
       "    .dataframe thead th {\n",
       "        text-align: right;\n",
       "    }\n",
       "</style>\n",
       "<table border=\"1\" class=\"dataframe\">\n",
       "  <thead>\n",
       "    <tr style=\"text-align: right;\">\n",
       "      <th></th>\n",
       "      <th>gameDuraton</th>\n",
       "      <th>blueWins</th>\n",
       "      <th>blueFirstTower</th>\n",
       "      <th>blueKills</th>\n",
       "      <th>blueTotalGold</th>\n",
       "    </tr>\n",
       "  </thead>\n",
       "  <tbody>\n",
       "    <tr>\n",
       "      <th>0</th>\n",
       "      <td>1323</td>\n",
       "      <td>0</td>\n",
       "      <td>0</td>\n",
       "      <td>15</td>\n",
       "      <td>37001</td>\n",
       "    </tr>\n",
       "    <tr>\n",
       "      <th>1</th>\n",
       "      <td>1317</td>\n",
       "      <td>1</td>\n",
       "      <td>0</td>\n",
       "      <td>19</td>\n",
       "      <td>41072</td>\n",
       "    </tr>\n",
       "    <tr>\n",
       "      <th>2</th>\n",
       "      <td>932</td>\n",
       "      <td>0</td>\n",
       "      <td>0</td>\n",
       "      <td>5</td>\n",
       "      <td>22929</td>\n",
       "    </tr>\n",
       "    <tr>\n",
       "      <th>3</th>\n",
       "      <td>2098</td>\n",
       "      <td>0</td>\n",
       "      <td>0</td>\n",
       "      <td>26</td>\n",
       "      <td>63447</td>\n",
       "    </tr>\n",
       "    <tr>\n",
       "      <th>4</th>\n",
       "      <td>2344</td>\n",
       "      <td>1</td>\n",
       "      <td>1</td>\n",
       "      <td>27</td>\n",
       "      <td>74955</td>\n",
       "    </tr>\n",
       "  </tbody>\n",
       "</table>\n",
       "</div>"
      ],
      "text/plain": [
       "   gameDuraton  blueWins  blueFirstTower  blueKills  blueTotalGold\n",
       "0         1323         0               0         15          37001\n",
       "1         1317         1               0         19          41072\n",
       "2          932         0               0          5          22929\n",
       "3         2098         0               0         26          63447\n",
       "4         2344         1               1         27          74955"
      ]
     },
     "execution_count": 79,
     "metadata": {},
     "output_type": "execute_result"
    }
   ],
   "source": [
    "# baselining with small subset of features\n",
    "subset_1 = blue_df.loc[:,['gameDuraton','blueWins','blueFirstTower', 'blueKills', 'blueTotalGold']]\n",
    "subset_1.head()"
   ]
  },
  {
   "cell_type": "code",
   "execution_count": 80,
   "id": "aa47e345",
   "metadata": {},
   "outputs": [],
   "source": [
    "X, y = subset_1.drop(['blueWins'], axis=1), subset_1.blueWins\n",
    "\n",
    "X_train, X_test, y_train, y_test = train_test_split(X, y, test_size=0.2, random_state=42)\n",
    "\n",
    "scaler = StandardScaler()\n",
    "X_train_sc = scaler.fit_transform(X_train)\n",
    "X_test_sc = scaler.transform(X_test)"
   ]
  },
  {
   "cell_type": "code",
   "execution_count": 81,
   "id": "69a43f69",
   "metadata": {},
   "outputs": [
    {
     "name": "stdout",
     "output_type": "stream",
     "text": [
      "              precision    recall  f1-score   support\n",
      "\n",
      "           0       0.80      0.78      0.79      2662\n",
      "           1       0.79      0.81      0.80      2719\n",
      "\n",
      "    accuracy                           0.79      5381\n",
      "   macro avg       0.79      0.79      0.79      5381\n",
      "weighted avg       0.79      0.79      0.79      5381\n",
      "\n"
     ]
    }
   ],
   "source": [
    "lr = LogisticRegression()\n",
    "lr.fit(X_train_sc, y_train)\n",
    "lr_pred = lr.predict(X_test_sc)\n",
    "lr_confusion = confusion_matrix(y_test, lr_pred)\n",
    "\n",
    "lr_ac = lr.score(X_test_sc, y_test)\n",
    "lr_precision = precision_score(y_test, lr_pred)\n",
    "lr_recall = recall_score(y_test, lr_pred)\n",
    "lr_f1 = f1_score(y_test, lr_pred)\n",
    "\n",
    "lr_y_score = lr.predict_proba(X_test_sc)[:,1]\n",
    "lr_fpr, lr_tpr, lr_auc_thresholds = roc_curve(y_test, lr_y_score)\n",
    "roc_auc_lr = auc(lr_fpr, lr_tpr)\n",
    "\n",
    "print(classification_report(y_test, lr_pred))"
   ]
  },
  {
   "cell_type": "code",
   "execution_count": 82,
   "id": "21161b9d",
   "metadata": {},
   "outputs": [
    {
     "name": "stdout",
     "output_type": "stream",
     "text": [
      " Accuracy: 0.792046088087716\n",
      " Precision: 0.7863278453829635\n",
      " Recall: 0.8080176535490989\n",
      " F1: 0.7970252131325957\n",
      " ROC: 0.8620512524354177\n"
     ]
    }
   ],
   "source": [
    "print(f' Accuracy: {lr_ac}')\n",
    "print(f' Precision: {lr_precision}')\n",
    "print(f' Recall: {lr_recall}')\n",
    "print(f' F1: {lr_f1}')\n",
    "print(f' ROC: {roc_auc_lr}')"
   ]
  },
  {
   "cell_type": "code",
   "execution_count": 83,
   "id": "cfbd3baf",
   "metadata": {},
   "outputs": [
    {
     "data": {
      "image/png": "[encoded data removed]",
      "text/plain": [
       "<Figure size 480x320 with 2 Axes>"
      ]
     },
     "metadata": {
      "needs_background": "light"
     },
     "output_type": "display_data"
    }
   ],
   "source": [
    "make_confusion_matrix(lr)\n",
    "plt.savefig('confusion_matrix_1.png');"
   ]
  },
  {
   "cell_type": "markdown",
   "id": "ae9e0925",
   "metadata": {},
   "source": [
    "## Baseline Subset 2 - with continuous features"
   ]
  },
  {
   "cell_type": "code",
   "execution_count": 12,
   "id": "8805762f",
   "metadata": {},
   "outputs": [
    {
     "data": {
      "text/html": [
       "<div>\n",
       "<style scoped>\n",
       "    .dataframe tbody tr th:only-of-type {\n",
       "        vertical-align: middle;\n",
       "    }\n",
       "\n",
       "    .dataframe tbody tr th {\n",
       "        vertical-align: top;\n",
       "    }\n",
       "\n",
       "    .dataframe thead th {\n",
       "        text-align: right;\n",
       "    }\n",
       "</style>\n",
       "<table border=\"1\" class=\"dataframe\">\n",
       "  <thead>\n",
       "    <tr style=\"text-align: right;\">\n",
       "      <th></th>\n",
       "      <th>blueWins</th>\n",
       "      <th>blueInhibitorKills</th>\n",
       "      <th>blueWardPlaced</th>\n",
       "      <th>blueWardkills</th>\n",
       "      <th>blueDeath</th>\n",
       "      <th>blueAssist</th>\n",
       "    </tr>\n",
       "  </thead>\n",
       "  <tbody>\n",
       "    <tr>\n",
       "      <th>0</th>\n",
       "      <td>0</td>\n",
       "      <td>0</td>\n",
       "      <td>38</td>\n",
       "      <td>13</td>\n",
       "      <td>31</td>\n",
       "      <td>22</td>\n",
       "    </tr>\n",
       "    <tr>\n",
       "      <th>1</th>\n",
       "      <td>1</td>\n",
       "      <td>0</td>\n",
       "      <td>57</td>\n",
       "      <td>18</td>\n",
       "      <td>8</td>\n",
       "      <td>31</td>\n",
       "    </tr>\n",
       "    <tr>\n",
       "      <th>2</th>\n",
       "      <td>0</td>\n",
       "      <td>0</td>\n",
       "      <td>28</td>\n",
       "      <td>7</td>\n",
       "      <td>20</td>\n",
       "      <td>8</td>\n",
       "    </tr>\n",
       "    <tr>\n",
       "      <th>3</th>\n",
       "      <td>0</td>\n",
       "      <td>0</td>\n",
       "      <td>129</td>\n",
       "      <td>39</td>\n",
       "      <td>36</td>\n",
       "      <td>45</td>\n",
       "    </tr>\n",
       "    <tr>\n",
       "      <th>4</th>\n",
       "      <td>1</td>\n",
       "      <td>3</td>\n",
       "      <td>114</td>\n",
       "      <td>35</td>\n",
       "      <td>40</td>\n",
       "      <td>47</td>\n",
       "    </tr>\n",
       "  </tbody>\n",
       "</table>\n",
       "</div>"
      ],
      "text/plain": [
       "   blueWins  blueInhibitorKills  blueWardPlaced  blueWardkills  blueDeath  \\\n",
       "0         0                   0              38             13         31   \n",
       "1         1                   0              57             18          8   \n",
       "2         0                   0              28              7         20   \n",
       "3         0                   0             129             39         36   \n",
       "4         1                   3             114             35         40   \n",
       "\n",
       "   blueAssist  \n",
       "0          22  \n",
       "1          31  \n",
       "2           8  \n",
       "3          45  \n",
       "4          47  "
      ]
     },
     "execution_count": 12,
     "metadata": {},
     "output_type": "execute_result"
    }
   ],
   "source": [
    "subset_2 = blue_df.loc[:,['blueWins','blueInhibitorKills', 'blueWardPlaced', 'blueWardkills', 'blueDeath', 'blueAssist']]\n",
    "subset_2.head()"
   ]
  },
  {
   "cell_type": "code",
   "execution_count": 13,
   "id": "9321a40e",
   "metadata": {},
   "outputs": [],
   "source": [
    "X, y = subset_2.drop(['blueWins'], axis=1), subset_2.blueWins\n",
    "\n",
    "X_train, X_test, y_train, y_test = train_test_split(X, y, test_size=0.2, random_state=42)\n",
    "\n",
    "scaler = StandardScaler()\n",
    "X_train_sc = scaler.fit_transform(X_train)\n",
    "X_test_sc = scaler.transform(X_test)"
   ]
  },
  {
   "cell_type": "code",
   "execution_count": 14,
   "id": "510c08a5",
   "metadata": {},
   "outputs": [
    {
     "name": "stdout",
     "output_type": "stream",
     "text": [
      "              precision    recall  f1-score   support\n",
      "\n",
      "           0       0.95      0.94      0.94      2662\n",
      "           1       0.94      0.95      0.95      2719\n",
      "\n",
      "    accuracy                           0.95      5381\n",
      "   macro avg       0.95      0.95      0.95      5381\n",
      "weighted avg       0.95      0.95      0.95      5381\n",
      "\n"
     ]
    }
   ],
   "source": [
    "lr2 = LogisticRegression()\n",
    "lr2.fit(X_train_sc, y_train)\n",
    "lr2_pred = lr2.predict(X_test_sc)\n",
    "lr2_confusion = confusion_matrix(y_test, lr2_pred)\n",
    "\n",
    "lr2_ac = lr2.score(X_test_sc, y_test)\n",
    "lr2_precision = precision_score(y_test, lr2_pred)\n",
    "lr2_recall = recall_score(y_test, lr2_pred)\n",
    "lr2_f1 = f1_score(y_test, lr2_pred)\n",
    "\n",
    "lr2_y_score = lr2.predict_proba(X_test_sc)[:,1]\n",
    "lr2_fpr, lr2_tpr, lr2_auc_thresholds = roc_curve(y_test, lr2_y_score)\n",
    "roc_auc_lr2 = auc(lr2_fpr, lr2_tpr)\n",
    "\n",
    "print(classification_report(y_test, lr2_pred))"
   ]
  },
  {
   "cell_type": "code",
   "execution_count": 15,
   "id": "ef6e624f",
   "metadata": {},
   "outputs": [
    {
     "name": "stdout",
     "output_type": "stream",
     "text": [
      " Accuracy: 0.9451774763055194\n",
      " Precision: 0.9416909620991254\n",
      " Recall: 0.9503493931592497\n",
      " F1: 0.9460003660992129\n",
      " ROC: 0.978553195381362\n"
     ]
    }
   ],
   "source": [
    "print(f' Accuracy: {lr2_ac}')\n",
    "print(f' Precision: {lr2_precision}')\n",
    "print(f' Recall: {lr2_recall}')\n",
    "print(f' F1: {lr2_f1}')\n",
    "print(f' ROC: {roc_auc_lr2}')"
   ]
  },
  {
   "cell_type": "code",
   "execution_count": 16,
   "id": "9a8ac2a0",
   "metadata": {},
   "outputs": [
    {
     "data": {
      "image/png": "[encoded data removed]",
      "text/plain": [
       "<Figure size 480x320 with 2 Axes>"
      ]
     },
     "metadata": {
      "needs_background": "light"
     },
     "output_type": "display_data"
    }
   ],
   "source": [
    "make_confusion_matrix(lr2)"
   ]
  },
  {
   "cell_type": "markdown",
   "id": "d149acfd",
   "metadata": {},
   "source": [
    "## All features included"
   ]
  },
  {
   "cell_type": "code",
   "execution_count": 88,
   "id": "379d9d89",
   "metadata": {},
   "outputs": [],
   "source": [
    "X, y = blue_df.drop(['blueWins'], axis=1), blue_df.blueWins\n",
    "\n",
    "X_train, X_test, y_train, y_test = train_test_split(X, y, test_size=0.2, random_state=42)\n",
    "\n",
    "scaler = StandardScaler()\n",
    "X_train_sc = scaler.fit_transform(X_train)\n",
    "X_test_sc = scaler.transform(X_test)\n"
   ]
  },
  {
   "cell_type": "code",
   "execution_count": 89,
   "id": "86d3d121",
   "metadata": {},
   "outputs": [
    {
     "name": "stdout",
     "output_type": "stream",
     "text": [
      "              precision    recall  f1-score   support\n",
      "\n",
      "           0       0.97      0.97      0.97      2662\n",
      "           1       0.97      0.97      0.97      2719\n",
      "\n",
      "    accuracy                           0.97      5381\n",
      "   macro avg       0.97      0.97      0.97      5381\n",
      "weighted avg       0.97      0.97      0.97      5381\n",
      "\n"
     ]
    }
   ],
   "source": [
    "lr_all = LogisticRegression(C=1000) #no regularization\n",
    "lr_all.fit(X_train_sc, y_train)\n",
    "lr_all_pred = lr_all.predict(X_test_sc)\n",
    "lr_all_confusion = confusion_matrix(y_test, lr_all_pred)\n",
    "\n",
    "lr_all_ac = lr_all.score(X_test_sc, y_test)\n",
    "lr_all_precision = precision_score(y_test, lr_all_pred)\n",
    "lr_all_recall = recall_score(y_test, lr_all_pred)\n",
    "lr_all_f1 = f1_score(y_test, lr_all_pred)\n",
    "\n",
    "lr_all_y_score = lr_all.predict_proba(X_test_sc)[:,1]\n",
    "lr_all_fpr, lr_all_tpr, lr_all_auc_thresholds = roc_curve(y_test, lr_all_y_score)\n",
    "roc_auc_lr_all = auc(lr_all_fpr, lr_all_tpr)\n",
    "\n",
    "print(classification_report(y_test, lr_all_pred))"
   ]
  },
  {
   "cell_type": "code",
   "execution_count": 90,
   "id": "0a847179",
   "metadata": {},
   "outputs": [
    {
     "name": "stdout",
     "output_type": "stream",
     "text": [
      " Accuracy: 0.9726816576844453\n",
      " Precision: 0.9720998531571219\n",
      " Recall: 0.9738874586244943\n",
      " F1: 0.9729928348337314\n",
      " ROC: 0.9955511055711969\n"
     ]
    }
   ],
   "source": [
    "print(f' Accuracy: {lr_all_ac}')\n",
    "print(f' Precision: {lr_all_precision}')\n",
    "print(f' Recall: {lr_all_recall}')\n",
    "print(f' F1: {lr_all_f1}')\n",
    "print(f' ROC: {roc_auc_lr_all}')"
   ]
  },
  {
   "cell_type": "markdown",
   "id": "c7788881",
   "metadata": {},
   "source": [
    "## Coefficients for logistic regression"
   ]
  },
  {
   "cell_type": "code",
   "execution_count": 91,
   "id": "d000fb23",
   "metadata": {},
   "outputs": [
    {
     "name": "stdout",
     "output_type": "stream",
     "text": [
      "[[-3.44098628 -0.1678801  -0.11826879 -0.21881426  0.00573634 -0.1016641\n",
      "   0.69895758  0.7416317   3.04841169  0.49252371 -0.30673046 -0.0469197\n",
      "   2.4925828  -3.89239562  0.77875313  0.59087411 -0.49199774  1.76739071\n",
      "   0.48360325  0.48360325 -0.04686876  0.01381802  0.13239688 -0.77435344]] [0.16976516]\n"
     ]
    }
   ],
   "source": [
    "print(lr_all.coef_, lr_all.intercept_)"
   ]
  },
  {
   "cell_type": "code",
   "execution_count": 92,
   "id": "9a2d2f1b",
   "metadata": {},
   "outputs": [
    {
     "data": {
      "text/plain": [
       "array([[-3.44098628, -0.1678801 , -0.11826879, -0.21881426,  0.00573634,\n",
       "        -0.1016641 ,  0.69895758,  0.7416317 ,  3.04841169,  0.49252371,\n",
       "        -0.30673046, -0.0469197 ,  2.4925828 , -3.89239562,  0.77875313,\n",
       "         0.59087411, -0.49199774,  1.76739071,  0.48360325,  0.48360325,\n",
       "        -0.04686876,  0.01381802,  0.13239688, -0.77435344]])"
      ]
     },
     "execution_count": 92,
     "metadata": {},
     "output_type": "execute_result"
    }
   ],
   "source": [
    "lr_all.coef_"
   ]
  },
  {
   "cell_type": "code",
   "execution_count": 94,
   "id": "a4a3115d",
   "metadata": {},
   "outputs": [
    {
     "name": "stderr",
     "output_type": "stream",
     "text": [
      "/home/munwon/ENTER/lib/python3.8/site-packages/sklearn/linear_model/_logistic.py:763: ConvergenceWarning: lbfgs failed to converge (status=1):\n",
      "STOP: TOTAL NO. of ITERATIONS REACHED LIMIT.\n",
      "\n",
      "Increase the number of iterations (max_iter) or scale the data as shown in:\n",
      "    https://scikit-learn.org/stable/modules/preprocessing.html\n",
      "Please also refer to the documentation for alternative solver options:\n",
      "    https://scikit-learn.org/stable/modules/linear_model.html#logistic-regression\n",
      "  n_iter_i = _check_optimize_result(\n"
     ]
    },
    {
     "data": {
      "text/html": [
       "<div>\n",
       "<style scoped>\n",
       "    .dataframe tbody tr th:only-of-type {\n",
       "        vertical-align: middle;\n",
       "    }\n",
       "\n",
       "    .dataframe tbody tr th {\n",
       "        vertical-align: top;\n",
       "    }\n",
       "\n",
       "    .dataframe thead th {\n",
       "        text-align: right;\n",
       "    }\n",
       "</style>\n",
       "<table border=\"1\" class=\"dataframe\">\n",
       "  <thead>\n",
       "    <tr style=\"text-align: right;\">\n",
       "      <th></th>\n",
       "      <th>coef</th>\n",
       "    </tr>\n",
       "  </thead>\n",
       "  <tbody>\n",
       "    <tr>\n",
       "      <th>blueAssist</th>\n",
       "      <td>1.218319e-01</td>\n",
       "    </tr>\n",
       "    <tr>\n",
       "      <th>blueKills</th>\n",
       "      <td>5.049696e-02</td>\n",
       "    </tr>\n",
       "    <tr>\n",
       "      <th>blueJungleMinionKills</th>\n",
       "      <td>3.092399e-02</td>\n",
       "    </tr>\n",
       "    <tr>\n",
       "      <th>blueTotalLevel</th>\n",
       "      <td>2.865140e-02</td>\n",
       "    </tr>\n",
       "    <tr>\n",
       "      <th>blueTowerKills</th>\n",
       "      <td>2.171223e-02</td>\n",
       "    </tr>\n",
       "    <tr>\n",
       "      <th>blueTotalMinionKills</th>\n",
       "      <td>1.477354e-02</td>\n",
       "    </tr>\n",
       "    <tr>\n",
       "      <th>blueKillingSpree</th>\n",
       "      <td>1.333046e-02</td>\n",
       "    </tr>\n",
       "    <tr>\n",
       "      <th>blueAvgLevel</th>\n",
       "      <td>5.730281e-03</td>\n",
       "    </tr>\n",
       "    <tr>\n",
       "      <th>blueInhibitorKills</th>\n",
       "      <td>5.428843e-03</td>\n",
       "    </tr>\n",
       "    <tr>\n",
       "      <th>blueFirstInhibitor</th>\n",
       "      <td>3.797747e-03</td>\n",
       "    </tr>\n",
       "    <tr>\n",
       "      <th>blueDragonKills</th>\n",
       "      <td>2.890123e-03</td>\n",
       "    </tr>\n",
       "    <tr>\n",
       "      <th>blueFirstTower</th>\n",
       "      <td>2.330194e-03</td>\n",
       "    </tr>\n",
       "    <tr>\n",
       "      <th>blueFirstBlood</th>\n",
       "      <td>1.717139e-03</td>\n",
       "    </tr>\n",
       "    <tr>\n",
       "      <th>blueFirstDragon</th>\n",
       "      <td>1.160451e-03</td>\n",
       "    </tr>\n",
       "    <tr>\n",
       "      <th>blueFirstBaron</th>\n",
       "      <td>1.050625e-04</td>\n",
       "    </tr>\n",
       "    <tr>\n",
       "      <th>blueObjectDamageDealt</th>\n",
       "      <td>8.053199e-05</td>\n",
       "    </tr>\n",
       "    <tr>\n",
       "      <th>blueTotalHeal</th>\n",
       "      <td>5.356081e-06</td>\n",
       "    </tr>\n",
       "    <tr>\n",
       "      <th>blueTotalGold</th>\n",
       "      <td>-3.609496e-07</td>\n",
       "    </tr>\n",
       "    <tr>\n",
       "      <th>blueChampionDamageDealt</th>\n",
       "      <td>-1.919163e-05</td>\n",
       "    </tr>\n",
       "    <tr>\n",
       "      <th>blueBaronKills</th>\n",
       "      <td>-3.023523e-04</td>\n",
       "    </tr>\n",
       "    <tr>\n",
       "      <th>gameDuraton</th>\n",
       "      <td>-1.113816e-02</td>\n",
       "    </tr>\n",
       "    <tr>\n",
       "      <th>blueWardkills</th>\n",
       "      <td>-1.721244e-02</td>\n",
       "    </tr>\n",
       "    <tr>\n",
       "      <th>blueWardPlaced</th>\n",
       "      <td>-3.715076e-02</td>\n",
       "    </tr>\n",
       "    <tr>\n",
       "      <th>blueDeath</th>\n",
       "      <td>-1.288156e-01</td>\n",
       "    </tr>\n",
       "  </tbody>\n",
       "</table>\n",
       "</div>"
      ],
      "text/plain": [
       "                                 coef\n",
       "blueAssist               1.218319e-01\n",
       "blueKills                5.049696e-02\n",
       "blueJungleMinionKills    3.092399e-02\n",
       "blueTotalLevel           2.865140e-02\n",
       "blueTowerKills           2.171223e-02\n",
       "blueTotalMinionKills     1.477354e-02\n",
       "blueKillingSpree         1.333046e-02\n",
       "blueAvgLevel             5.730281e-03\n",
       "blueInhibitorKills       5.428843e-03\n",
       "blueFirstInhibitor       3.797747e-03\n",
       "blueDragonKills          2.890123e-03\n",
       "blueFirstTower           2.330194e-03\n",
       "blueFirstBlood           1.717139e-03\n",
       "blueFirstDragon          1.160451e-03\n",
       "blueFirstBaron           1.050625e-04\n",
       "blueObjectDamageDealt    8.053199e-05\n",
       "blueTotalHeal            5.356081e-06\n",
       "blueTotalGold           -3.609496e-07\n",
       "blueChampionDamageDealt -1.919163e-05\n",
       "blueBaronKills          -3.023523e-04\n",
       "gameDuraton             -1.113816e-02\n",
       "blueWardkills           -1.721244e-02\n",
       "blueWardPlaced          -3.715076e-02\n",
       "blueDeath               -1.288156e-01"
      ]
     },
     "execution_count": 94,
     "metadata": {},
     "output_type": "execute_result"
    }
   ],
   "source": [
    "logreg = LogisticRegression()\n",
    "logreg.fit(X, y)\n",
    "log_odds = logreg.coef_[0]\n",
    "\n",
    "pd.DataFrame(log_odds, \n",
    "             X.columns, \n",
    "             columns=['coef'])\\\n",
    "            .sort_values(by='coef', ascending=False)"
   ]
  },
  {
   "cell_type": "code",
   "execution_count": 43,
   "id": "e1f3f499",
   "metadata": {},
   "outputs": [
    {
     "data": {
      "text/html": [
       "<div>\n",
       "<style scoped>\n",
       "    .dataframe tbody tr th:only-of-type {\n",
       "        vertical-align: middle;\n",
       "    }\n",
       "\n",
       "    .dataframe tbody tr th {\n",
       "        vertical-align: top;\n",
       "    }\n",
       "\n",
       "    .dataframe thead th {\n",
       "        text-align: right;\n",
       "    }\n",
       "</style>\n",
       "<table border=\"1\" class=\"dataframe\">\n",
       "  <thead>\n",
       "    <tr style=\"text-align: right;\">\n",
       "      <th></th>\n",
       "      <th>coef</th>\n",
       "    </tr>\n",
       "  </thead>\n",
       "  <tbody>\n",
       "    <tr>\n",
       "      <th>blueAssist</th>\n",
       "      <td>1.129564</td>\n",
       "    </tr>\n",
       "    <tr>\n",
       "      <th>blueKills</th>\n",
       "      <td>1.051794</td>\n",
       "    </tr>\n",
       "    <tr>\n",
       "      <th>blueJungleMinionKills</th>\n",
       "      <td>1.031407</td>\n",
       "    </tr>\n",
       "    <tr>\n",
       "      <th>blueTotalLevel</th>\n",
       "      <td>1.029066</td>\n",
       "    </tr>\n",
       "    <tr>\n",
       "      <th>blueTowerKills</th>\n",
       "      <td>1.021950</td>\n",
       "    </tr>\n",
       "    <tr>\n",
       "      <th>blueTotalMinionKills</th>\n",
       "      <td>1.014883</td>\n",
       "    </tr>\n",
       "    <tr>\n",
       "      <th>blueKillingSpree</th>\n",
       "      <td>1.013420</td>\n",
       "    </tr>\n",
       "    <tr>\n",
       "      <th>blueAvgLevel</th>\n",
       "      <td>1.005747</td>\n",
       "    </tr>\n",
       "    <tr>\n",
       "      <th>blueInhibitorKills</th>\n",
       "      <td>1.005444</td>\n",
       "    </tr>\n",
       "    <tr>\n",
       "      <th>blueFirstInhibitor</th>\n",
       "      <td>1.003805</td>\n",
       "    </tr>\n",
       "    <tr>\n",
       "      <th>blueDragonKills</th>\n",
       "      <td>1.002894</td>\n",
       "    </tr>\n",
       "    <tr>\n",
       "      <th>blueFirstTower</th>\n",
       "      <td>1.002333</td>\n",
       "    </tr>\n",
       "    <tr>\n",
       "      <th>blueFirstBlood</th>\n",
       "      <td>1.001719</td>\n",
       "    </tr>\n",
       "    <tr>\n",
       "      <th>blueFirstDragon</th>\n",
       "      <td>1.001161</td>\n",
       "    </tr>\n",
       "    <tr>\n",
       "      <th>blueFirstBaron</th>\n",
       "      <td>1.000105</td>\n",
       "    </tr>\n",
       "    <tr>\n",
       "      <th>blueObjectDamageDealt</th>\n",
       "      <td>1.000081</td>\n",
       "    </tr>\n",
       "    <tr>\n",
       "      <th>blueTotalHeal</th>\n",
       "      <td>1.000005</td>\n",
       "    </tr>\n",
       "    <tr>\n",
       "      <th>blueTotalGold</th>\n",
       "      <td>1.000000</td>\n",
       "    </tr>\n",
       "    <tr>\n",
       "      <th>blueChampionDamageDealt</th>\n",
       "      <td>0.999981</td>\n",
       "    </tr>\n",
       "    <tr>\n",
       "      <th>blueBaronKills</th>\n",
       "      <td>0.999698</td>\n",
       "    </tr>\n",
       "    <tr>\n",
       "      <th>gameDuraton</th>\n",
       "      <td>0.988924</td>\n",
       "    </tr>\n",
       "    <tr>\n",
       "      <th>blueWardkills</th>\n",
       "      <td>0.982935</td>\n",
       "    </tr>\n",
       "    <tr>\n",
       "      <th>blueWardPlaced</th>\n",
       "      <td>0.963531</td>\n",
       "    </tr>\n",
       "    <tr>\n",
       "      <th>blueDeath</th>\n",
       "      <td>0.879136</td>\n",
       "    </tr>\n",
       "  </tbody>\n",
       "</table>\n",
       "</div>"
      ],
      "text/plain": [
       "                             coef\n",
       "blueAssist               1.129564\n",
       "blueKills                1.051794\n",
       "blueJungleMinionKills    1.031407\n",
       "blueTotalLevel           1.029066\n",
       "blueTowerKills           1.021950\n",
       "blueTotalMinionKills     1.014883\n",
       "blueKillingSpree         1.013420\n",
       "blueAvgLevel             1.005747\n",
       "blueInhibitorKills       1.005444\n",
       "blueFirstInhibitor       1.003805\n",
       "blueDragonKills          1.002894\n",
       "blueFirstTower           1.002333\n",
       "blueFirstBlood           1.001719\n",
       "blueFirstDragon          1.001161\n",
       "blueFirstBaron           1.000105\n",
       "blueObjectDamageDealt    1.000081\n",
       "blueTotalHeal            1.000005\n",
       "blueTotalGold            1.000000\n",
       "blueChampionDamageDealt  0.999981\n",
       "blueBaronKills           0.999698\n",
       "gameDuraton              0.988924\n",
       "blueWardkills            0.982935\n",
       "blueWardPlaced           0.963531\n",
       "blueDeath                0.879136"
      ]
     },
     "execution_count": 43,
     "metadata": {},
     "output_type": "execute_result"
    }
   ],
   "source": [
    "odds = np.exp(logreg.coef_[0])\n",
    "pd.DataFrame(odds, \n",
    "             X.columns, \n",
    "             columns=['coef'])\\\n",
    "            .sort_values(by='coef', ascending=False)"
   ]
  },
  {
   "cell_type": "code",
   "execution_count": 87,
   "id": "d6f8fe73",
   "metadata": {},
   "outputs": [
    {
     "data": {
      "image/png": "[encoded data removed]",
      "text/plain": [
       "<Figure size 480x320 with 2 Axes>"
      ]
     },
     "metadata": {
      "needs_background": "light"
     },
     "output_type": "display_data"
    }
   ],
   "source": [
    "make_confusion_matrix(lr_all)\n",
    "#plt.savefig('confusion_matrix_graph.png');"
   ]
  },
  {
   "cell_type": "markdown",
   "id": "c56b7e3f",
   "metadata": {},
   "source": [
    "## Graph of subset 1, subset 2, all features"
   ]
  },
  {
   "cell_type": "code",
   "execution_count": 45,
   "id": "3c793136",
   "metadata": {},
   "outputs": [
    {
     "data": {
      "image/png": "[encoded data removed]",
      "text/plain": [
       "<Figure size 360x360 with 1 Axes>"
      ]
     },
     "metadata": {
      "needs_background": "light"
     },
     "output_type": "display_data"
    }
   ],
   "source": [
    "plt.figure(figsize=(5,5))\n",
    "lw = 2\n",
    "plt.plot(lr_fpr, lr_tpr, color='black', lw=lw, \n",
    "         label='subset 1 (area= %0.2f)' %roc_auc_lr)\n",
    "plt.plot(lr2_fpr, lr2_tpr, color='blue', lw=lw, \n",
    "         label='subset 2 (area= %0.2f)' %roc_auc_lr2)\n",
    "plt.plot(lr_all_fpr, lr_all_tpr, color='green', lw=lw, \n",
    "         label='all features (area= %0.2f)' %roc_auc_lr_all)\n",
    "plt.plot([0,1],[0,1],c='violet',ls='--')\n",
    "plt.xlim([-0.05,1.05])\n",
    "plt.ylim([-0.05,1.05])\n",
    "\n",
    "\n",
    "plt.xlabel('False positive rate')\n",
    "plt.ylabel('True positive rate')\n",
    "plt.title('ROC curve')\n",
    "plt.legend(loc='lower right');"
   ]
  },
  {
   "cell_type": "code",
   "execution_count": 46,
   "id": "b7e8e4f2",
   "metadata": {},
   "outputs": [],
   "source": [
    "X, y = blue_df.drop(['blueWins'], axis=1), blue_df.blueWins\n",
    "\n",
    "X_mid, X_test, y_mid, y_test = train_test_split(X, y, test_size=0.2, random_state=42)\n",
    "\n",
    "X_train, X_val, y_train, y_val = train_test_split(X_mid, y_mid, test_size=0.2, random_state=42)\n",
    "\n",
    "\n",
    "# #Split data into 3: 60% train, 20% validation, 20% test\n",
    "# X_train, X_test, y_train, y_test = train_test_split(X, y, test_size=0.2, random_state=42)\n",
    "# X_train, X_val, y_train, y_val = train_test_split(X_train, y_train, test_size=0.25, random_state=42)\n",
    "\n",
    "\n",
    "scaler = StandardScaler()\n",
    "X_train_sc = scaler.fit_transform(X_train)\n",
    "X_val_sc = scaler.transform(X_val)\n",
    "X_test_sc = scaler.transform(X_test)"
   ]
  },
  {
   "cell_type": "markdown",
   "id": "be8cf702",
   "metadata": {},
   "source": [
    "## KNN"
   ]
  },
  {
   "cell_type": "code",
   "execution_count": 47,
   "id": "8c7f9ff4",
   "metadata": {},
   "outputs": [
    {
     "name": "stdout",
     "output_type": "stream",
     "text": [
      "              precision    recall  f1-score   support\n",
      "\n",
      "           0       0.96      0.93      0.95      2184\n",
      "           1       0.93      0.96      0.95      2121\n",
      "\n",
      "    accuracy                           0.95      4305\n",
      "   macro avg       0.95      0.95      0.95      4305\n",
      "weighted avg       0.95      0.95      0.95      4305\n",
      "\n"
     ]
    }
   ],
   "source": [
    "# initiate model and calculate error metrics\n",
    "knn = KNeighborsClassifier()\n",
    "knn.fit(X_train_sc, y_train)\n",
    "knn_pred = knn.predict(X_val_sc)\n",
    "knn_confusion = confusion_matrix(y_val,knn_pred)\n",
    "\n",
    "knn_ac = knn.score(X_val_sc, y_val)\n",
    "knn_precision = precision_score(y_val, knn_pred)\n",
    "knn_recall = recall_score(y_val, knn_pred)\n",
    "knn_f1 = f1_score(y_val, knn_pred)\n",
    "\n",
    "print(classification_report(y_val, knn_pred))"
   ]
  },
  {
   "cell_type": "code",
   "execution_count": 48,
   "id": "eb538f22",
   "metadata": {},
   "outputs": [
    {
     "name": "stdout",
     "output_type": "stream",
     "text": [
      "KNN validation metrics: \n",
      " Accuracy: 0.9468 \n",
      " Precision: 0.9300 \n",
      " Recall: 0.9646 \n",
      " F1: 0.9470\n"
     ]
    }
   ],
   "source": [
    "print('KNN validation metrics: \\n Accuracy: %.4f \\n Precision: %.4f \\n Recall: %.4f \\n F1: %.4f' %\n",
    "        (knn_ac, \n",
    "         knn_precision, \n",
    "         knn_recall,\n",
    "         knn_f1)\n",
    "     )"
   ]
  },
  {
   "cell_type": "code",
   "execution_count": 49,
   "id": "7efcfc31",
   "metadata": {},
   "outputs": [
    {
     "data": {
      "image/png": "[encoded data removed]",
      "text/plain": [
       "<Figure size 480x320 with 2 Axes>"
      ]
     },
     "metadata": {
      "needs_background": "light"
     },
     "output_type": "display_data"
    }
   ],
   "source": [
    "make_confusion_matrix(knn)"
   ]
  },
  {
   "cell_type": "code",
   "execution_count": 50,
   "id": "07e860fc",
   "metadata": {},
   "outputs": [
    {
     "name": "stdout",
     "output_type": "stream",
     "text": [
      "0.9814703997872315\n"
     ]
    }
   ],
   "source": [
    "knn_y_score = knn.predict_proba(X_val_sc)[:,1]\n",
    "knn_fpr, knn_tpr, knn_auc_thresholds = roc_curve(y_val, knn_y_score)\n",
    "roc_auc_knn = auc(knn_fpr, knn_tpr)\n",
    "print(roc_auc_knn)"
   ]
  },
  {
   "cell_type": "markdown",
   "id": "5ac3b49f",
   "metadata": {},
   "source": [
    "## Logistic Regression"
   ]
  },
  {
   "cell_type": "code",
   "execution_count": 51,
   "id": "20677571",
   "metadata": {},
   "outputs": [
    {
     "name": "stdout",
     "output_type": "stream",
     "text": [
      "              precision    recall  f1-score   support\n",
      "\n",
      "           0       0.97      0.96      0.96      2184\n",
      "           1       0.96      0.97      0.96      2121\n",
      "\n",
      "    accuracy                           0.96      4305\n",
      "   macro avg       0.96      0.96      0.96      4305\n",
      "weighted avg       0.96      0.96      0.96      4305\n",
      "\n"
     ]
    }
   ],
   "source": [
    "lr = LogisticRegression()\n",
    "lr.fit(X_train_sc, y_train)\n",
    "lr_pred = lr.predict(X_val_sc)\n",
    "\n",
    "lr_ac = lr.score(X_val_sc, y_val)\n",
    "lr_precision = precision_score(y_val, lr_pred)\n",
    "lr_recall = recall_score(y_val, lr_pred)\n",
    "lr_f1 = f1_score(y_val, lr_pred)\n",
    "\n",
    "print(classification_report(y_val, lr_pred))"
   ]
  },
  {
   "cell_type": "code",
   "execution_count": 52,
   "id": "c1e9143a",
   "metadata": {},
   "outputs": [
    {
     "name": "stdout",
     "output_type": "stream",
     "text": [
      "Logistic Regression validation metrics: \n",
      " Accuracy: 0.9640 \n",
      " Precision: 0.9598 \n",
      " Recall: 0.9675 \n",
      " F1: 0.9636\n"
     ]
    }
   ],
   "source": [
    "print('Logistic Regression validation metrics: \\n Accuracy: %.4f \\n Precision: %.4f \\n Recall: %.4f \\n F1: %.4f' %\n",
    "        (lr_ac, \n",
    "         lr_precision, \n",
    "         lr_recall,\n",
    "         lr_f1)\n",
    "     )"
   ]
  },
  {
   "cell_type": "code",
   "execution_count": 53,
   "id": "3cc0cfd0",
   "metadata": {},
   "outputs": [
    {
     "data": {
      "image/png": "[encoded data removed]",
      "text/plain": [
       "<Figure size 480x320 with 2 Axes>"
      ]
     },
     "metadata": {
      "needs_background": "light"
     },
     "output_type": "display_data"
    }
   ],
   "source": [
    "make_confusion_matrix(lr)"
   ]
  },
  {
   "cell_type": "code",
   "execution_count": 54,
   "id": "4c4e8190",
   "metadata": {},
   "outputs": [
    {
     "name": "stdout",
     "output_type": "stream",
     "text": [
      "0.9934716587828327\n"
     ]
    }
   ],
   "source": [
    "lr_y_score = lr.predict_proba(X_val_sc)[:,1]\n",
    "lr_fpr, lr_tpr, lr_auc_thresholds = roc_curve(y_val, lr_y_score)\n",
    "roc_auc_lr = auc(lr_fpr, lr_tpr)\n",
    "print(roc_auc_lr)"
   ]
  },
  {
   "cell_type": "markdown",
   "id": "0bbff603",
   "metadata": {},
   "source": [
    "## Decision Tree"
   ]
  },
  {
   "cell_type": "code",
   "execution_count": 55,
   "id": "0336221d",
   "metadata": {},
   "outputs": [
    {
     "name": "stdout",
     "output_type": "stream",
     "text": [
      "              precision    recall  f1-score   support\n",
      "\n",
      "           0       0.95      0.96      0.96      2184\n",
      "           1       0.96      0.95      0.95      2121\n",
      "\n",
      "    accuracy                           0.95      4305\n",
      "   macro avg       0.95      0.95      0.95      4305\n",
      "weighted avg       0.95      0.95      0.95      4305\n",
      "\n"
     ]
    }
   ],
   "source": [
    "dt = DecisionTreeClassifier()\n",
    "dt.fit(X_train, y_train)\n",
    "dt_pred = dt.predict(X_val)\n",
    "\n",
    "dt_ac = dt.score(X_val, y_val)\n",
    "dt_precision = precision_score(y_val, dt_pred)\n",
    "dt_recall = recall_score(y_val, dt_pred)\n",
    "dt_f1 = f1_score(y_val, dt_pred)\n",
    "\n",
    "print(classification_report(y_val, dt_pred))"
   ]
  },
  {
   "cell_type": "code",
   "execution_count": 56,
   "id": "e2c119d5",
   "metadata": {},
   "outputs": [
    {
     "name": "stdout",
     "output_type": "stream",
     "text": [
      "Decision Tree validation metrics: \n",
      " Accuracy: 0.9545 \n",
      " Precision: 0.9555 \n",
      " Recall: 0.9519 \n",
      " F1: 0.9537\n"
     ]
    }
   ],
   "source": [
    "print('Decision Tree validation metrics: \\n Accuracy: %.4f \\n Precision: %.4f \\n Recall: %.4f \\n F1: %.4f' %\n",
    "        (dt_ac, \n",
    "         dt_precision, \n",
    "         dt_recall,\n",
    "         dt_f1)\n",
    "     )"
   ]
  },
  {
   "cell_type": "code",
   "execution_count": 57,
   "id": "a2402375",
   "metadata": {},
   "outputs": [
    {
     "data": {
      "image/png": "[encoded data removed]",
      "text/plain": [
       "<Figure size 480x320 with 2 Axes>"
      ]
     },
     "metadata": {
      "needs_background": "light"
     },
     "output_type": "display_data"
    }
   ],
   "source": [
    "make_confusion_matrix(dt)"
   ]
  },
  {
   "cell_type": "code",
   "execution_count": 58,
   "id": "173aa2fb",
   "metadata": {},
   "outputs": [
    {
     "name": "stdout",
     "output_type": "stream",
     "text": [
      "0.9544345918108295\n"
     ]
    }
   ],
   "source": [
    "dt_y_score = dt.predict_proba(X_val)[:, 1]\n",
    "dt_fpr, dt_tpr, auc_thresholds = roc_curve(y_val, dt_y_score)\n",
    "roc_auc_dt = auc(dt_fpr, dt_tpr)\n",
    "print(roc_auc_dt)"
   ]
  },
  {
   "cell_type": "markdown",
   "id": "4ef94bfc",
   "metadata": {},
   "source": [
    "## Random Forest"
   ]
  },
  {
   "cell_type": "code",
   "execution_count": 59,
   "id": "314ea04c",
   "metadata": {},
   "outputs": [
    {
     "name": "stdout",
     "output_type": "stream",
     "text": [
      "              precision    recall  f1-score   support\n",
      "\n",
      "           0       0.98      0.96      0.97      2184\n",
      "           1       0.96      0.98      0.97      2121\n",
      "\n",
      "    accuracy                           0.97      4305\n",
      "   macro avg       0.97      0.97      0.97      4305\n",
      "weighted avg       0.97      0.97      0.97      4305\n",
      "\n"
     ]
    }
   ],
   "source": [
    "rf = RandomForestClassifier()\n",
    "rf.fit(X_train, y_train)\n",
    "rf_pred = rf.predict(X_val)\n",
    "rf_confusion = confusion_matrix(y_val, rf_pred)\n",
    "\n",
    "rf_ac = rf.score(X_val, y_val)\n",
    "rf_precision = precision_score(y_val, rf_pred)\n",
    "rf_recall = recall_score(y_val, rf_pred)\n",
    "rf_f1 = f1_score(y_val, rf_pred)\n",
    "\n",
    "print(classification_report(y_val, rf_pred))"
   ]
  },
  {
   "cell_type": "code",
   "execution_count": 60,
   "id": "d13b15a6",
   "metadata": {},
   "outputs": [
    {
     "name": "stdout",
     "output_type": "stream",
     "text": [
      "Random Forest validation metrics: \n",
      " Accuracy: 0.9691 \n",
      " Precision: 0.9606 \n",
      " Recall: 0.9774 \n",
      " F1: 0.9689\n"
     ]
    }
   ],
   "source": [
    "print('Random Forest validation metrics: \\n Accuracy: %.4f \\n Precision: %.4f \\n Recall: %.4f \\n F1: %.4f' %\n",
    "        (rf_ac, \n",
    "         rf_precision, \n",
    "         rf_recall,\n",
    "         rf_f1)\n",
    "     )"
   ]
  },
  {
   "cell_type": "code",
   "execution_count": 61,
   "id": "198542d5",
   "metadata": {},
   "outputs": [
    {
     "data": {
      "image/png": "[encoded data removed]",
      "text/plain": [
       "<Figure size 480x320 with 2 Axes>"
      ]
     },
     "metadata": {
      "needs_background": "light"
     },
     "output_type": "display_data"
    }
   ],
   "source": [
    "make_confusion_matrix(rf)"
   ]
  },
  {
   "cell_type": "code",
   "execution_count": 62,
   "id": "de02a867",
   "metadata": {},
   "outputs": [
    {
     "name": "stdout",
     "output_type": "stream",
     "text": [
      "0.9958837622380762\n"
     ]
    }
   ],
   "source": [
    "rf_y_score = rf.predict_proba(X_val)[:, 1]\n",
    "rf_fpr, rf_tpr, auc_thresholds = roc_curve(y_val, rf_y_score)\n",
    "roc_auc_rf = auc(rf_fpr, rf_tpr)\n",
    "print(roc_auc_rf)"
   ]
  },
  {
   "cell_type": "code",
   "execution_count": 71,
   "id": "269eb4d1",
   "metadata": {},
   "outputs": [],
   "source": [
    "importancedf = pd.Series(rf.feature_importances_, index = X_train.columns)"
   ]
  },
  {
   "cell_type": "code",
   "execution_count": 72,
   "id": "238cca21",
   "metadata": {},
   "outputs": [
    {
     "data": {
      "text/plain": [
       "<AxesSubplot:>"
      ]
     },
     "execution_count": 72,
     "metadata": {},
     "output_type": "execute_result"
    },
    {
     "data": {
      "image/png": "[encoded data removed]",
      "text/plain": [
       "<Figure size 432x288 with 1 Axes>"
      ]
     },
     "metadata": {
      "needs_background": "light"
     },
     "output_type": "display_data"
    }
   ],
   "source": [
    "importancedf.sort_values().plot(kind='barh')"
   ]
  },
  {
   "cell_type": "code",
   "execution_count": 94,
   "id": "21632b7c",
   "metadata": {},
   "outputs": [
    {
     "data": {
      "image/png": "[encoded data removed]",
      "text/plain": [
       "<Figure size 720x720 with 1 Axes>"
      ]
     },
     "metadata": {
      "needs_background": "light"
     },
     "output_type": "display_data"
    }
   ],
   "source": [
    "# all models ROC Curve comparison\n",
    "plt.figure(figsize=(10,10))\n",
    "lw = 2\n",
    "plt.plot(knn_fpr, knn_tpr, color='black', lw=lw, \n",
    "         label='KNN (area= %0.3f)' %roc_auc_knn)\n",
    "plt.plot(lr_fpr, lr_tpr, color='blue', lw=lw, \n",
    "         label='Logistic (area= %0.3f)' %roc_auc_lr)\n",
    "plt.plot(dt_fpr, dt_tpr, color='green', lw=lw, \n",
    "         label='Decision Tree (area= %0.3f)' %roc_auc_dt)\n",
    "plt.plot(rf_fpr, rf_tpr, color='red', lw=lw, \n",
    "         label='Random Forest (area= %0.3f)' %roc_auc_rf)\n",
    "\n",
    "plt.plot([0,1], [0,1], color='navy', lw=lw, linestyle='--')\n",
    "plt.xlim([0.0, 1.0])\n",
    "plt.ylim([0.0, 1.0])\n",
    "plt.xlabel('False Positive Rate')\n",
    "plt.ylabel('True Positive Rate')\n",
    "plt.title('ROC Curves')\n",
    "plt.legend(loc='lower right');\n",
    "plt.savefig('all_ROC_curves.png');"
   ]
  }
 ],
 "metadata": {
  "kernelspec": {
   "display_name": "Python 3",
   "language": "python",
   "name": "python3"
  },
  "language_info": {
   "codemirror_mode": {
    "name": "ipython",
    "version": 3
   },
   "file_extension": ".py",
   "mimetype": "text/x-python",
   "name": "python",
   "nbconvert_exporter": "python",
   "pygments_lexer": "ipython3",
   "version": "3.8.8"
  }
 },
 "nbformat": 4,
 "nbformat_minor": 5
}
